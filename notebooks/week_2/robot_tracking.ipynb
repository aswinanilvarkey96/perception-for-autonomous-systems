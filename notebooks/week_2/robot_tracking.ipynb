{
 "cells": [
  {
   "cell_type": "code",
   "execution_count": 77,
   "metadata": {},
   "outputs": [],
   "source": [
    "import cv2\n",
    "import numpy as np\n",
    "from matplotlib import pyplot as plt\n",
    "import math"
   ]
  },
  {
   "cell_type": "markdown",
   "metadata": {},
   "source": [
    "### Sparse Optical Flow"
   ]
  },
  {
   "cell_type": "code",
   "execution_count": 75,
   "metadata": {},
   "outputs": [],
   "source": [
    "def capture_moving_sparse(prev_frame, prev_feat, frame, mask):\n",
    "    frame_gray = cv2.cvtColor(frame, cv2.COLOR_RGB2GRAY)\n",
    "    prev_frame_gray = cv2.cvtColor(prev_frame, cv2.COLOR_RGB2GRAY)\n",
    "\n",
    "    \n",
    "    feat, status, error = cv2.calcOpticalFlowPyrLK(prev_frame_gray, frame_gray, prev_feat, None)\n",
    "\n",
    "    for feature1, feature2 in zip(prev_feat, feat):\n",
    "      f10=int(feature1[0][0])\n",
    "      f11=int(feature1[0][1])\n",
    "      f20=int(feature2[0][0])\n",
    "      f21=int(feature2[0][1])\n",
    "    \n",
    "      # Choose treshold\n",
    "      if(((f10-f20)**2+(f11-f21)**2)**(1/2)) > 2:\n",
    "          cv2.line(mask, (f10,f11), (f20, f21), (0, 0, 255), 3)\n",
    "          cv2.circle(frame, (f10, f11), 5, (0, 255, 0), -1)\n",
    "    \n",
    "    return feat"
   ]
  },
  {
   "cell_type": "code",
   "execution_count": 76,
   "metadata": {},
   "outputs": [],
   "source": [
    "cap = cv2.VideoCapture('Robots.mp4')\n",
    "\n",
    "ret, prev_frame = cap.read()\n",
    "mask = np.zeros_like(prev_frame)\n",
    "prev_frame_gray = cv2.cvtColor(prev_frame, cv2.COLOR_RGB2GRAY)\n",
    "prev_feat = cv2.goodFeaturesToTrack(prev_frame_gray, maxCorners=100, qualityLevel=0.2, minDistance=5)\n",
    "\n",
    "# Read until video is completed\n",
    "while(cap.isOpened()):\n",
    "  # Capture frame-by-frame\n",
    "  ret, frame = cap.read()\n",
    "  if ret == True:\n",
    "\n",
    "    prev_feat = capture_moving_sparse(prev_frame, prev_feat, frame, mask)\n",
    "    prev_frame = frame\n",
    "\n",
    "    # Display the resulting frame\n",
    "    cv2.imshow('Frame', cv2.add(frame, mask))\n",
    "\n",
    "    # Press Q on keyboard to  exit\n",
    "    if cv2.waitKey(25) & 0xFF == ord('q'):\n",
    "      break\n",
    "\n",
    "  # Break the loop\n",
    "  else: \n",
    "    break\n",
    "\n",
    "# When everything done, release the video capture object\n",
    "cap.release()\n",
    "\n",
    "# Closes all the frames\n",
    "cv2.destroyAllWindows()"
   ]
  },
  {
   "cell_type": "markdown",
   "metadata": {},
   "source": [
    "### Dense Optical Flow"
   ]
  },
  {
   "cell_type": "code",
   "execution_count": 79,
   "metadata": {},
   "outputs": [],
   "source": [
    "cap = cv2.VideoCapture('Robots.mp4')\n",
    "\n",
    "ret, prev_frame = cap.read()\n",
    "mask = np.zeros_like(prev_frame)\n",
    "prev_frame_gray = cv2.cvtColor(prev_frame, cv2.COLOR_RGB2GRAY)\n",
    "prev_feat = cv2.goodFeaturesToTrack(prev_frame_gray, maxCorners=100, qualityLevel=0.2, minDistance=5)\n",
    "\n",
    "# Read until video is completed\n",
    "while(cap.isOpened()):\n",
    "  # Capture frame-by-frame\n",
    "  ret, frame = cap.read()\n",
    "  if ret == True:\n",
    "\n",
    "    frame_gray = cv2.cvtColor(frame, cv2.COLOR_RGB2GRAY)\n",
    "    prev_frame_gray = cv2.cvtColor(prev_frame, cv2.COLOR_RGB2GRAY)\n",
    "\n",
    "    flow = cv2.calcOpticalFlowFarneback(frame_gray, prev_frame_gray, None, 0.5, 3, 15, 3, 5, 1.5, 0)\n",
    "    mag, ang = cv2.cartToPolar(flow[:,:,0], flow[:,:,1])\n",
    "\n",
    "    for row, (mag_rows,ang_rows) in enumerate(zip(mag,ang)):\n",
    "      for column, (magnitude, angle) in enumerate(zip(mag_rows, ang_rows)):\n",
    "          \n",
    "          if row % 10 == 0 and column % 10 == 0:\n",
    "              magnitude *= 10\n",
    "              arg = (column, row)\n",
    "              # cv2.line(mask, (arg), (arg[0] + int(math.cos(angle)*magnitude), arg[1]+int(math.sin(angle)*magnitude)), (0, 0, 255), 1)\n",
    "              cv2.circle(mask, (arg), 2, (255, 0, 0), -1)\n",
    "\n",
    "    prev_frame = frame\n",
    "\n",
    "    # Display the resulting frame\n",
    "    cv2.imshow('Frame', cv2.add(frame, mask))\n",
    "\n",
    "    # Press Q on keyboard to  exit\n",
    "    if cv2.waitKey(25) & 0xFF == ord('q'):\n",
    "      break\n",
    "\n",
    "  # Break the loop\n",
    "  else: \n",
    "    break\n",
    "\n",
    "# When everything done, release the video capture object\n",
    "cap.release()\n",
    "\n",
    "# Closes all the frames\n",
    "cv2.destroyAllWindows()"
   ]
  }
 ],
 "metadata": {
  "interpreter": {
   "hash": "883110adefef9ccd5abb32e0d415cdcb05befe116d76668957d99b195886121a"
  },
  "kernelspec": {
   "display_name": "Python 3.8.10 ('perception')",
   "language": "python",
   "name": "python3"
  },
  "language_info": {
   "codemirror_mode": {
    "name": "ipython",
    "version": 3
   },
   "file_extension": ".py",
   "mimetype": "text/x-python",
   "name": "python",
   "nbconvert_exporter": "python",
   "pygments_lexer": "ipython3",
   "version": "3.8.10"
  },
  "orig_nbformat": 4
 },
 "nbformat": 4,
 "nbformat_minor": 2
}

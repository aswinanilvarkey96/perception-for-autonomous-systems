{
 "cells": [
  {
   "cell_type": "code",
   "execution_count": 30,
   "id": "5b5d7e5c",
   "metadata": {},
   "outputs": [],
   "source": [
    "import cv2\n",
    "import numpy as np\n",
    "from matplotlib import pyplot as plt"
   ]
  },
  {
   "cell_type": "code",
   "execution_count": 31,
   "id": "0c40bfc0",
   "metadata": {},
   "outputs": [],
   "source": [
    "cap = cv2.VideoCapture('Robots.mp4')"
   ]
  },
  {
   "cell_type": "code",
   "execution_count": 32,
   "id": "cb235d8a",
   "metadata": {},
   "outputs": [],
   "source": [
    "colors = [ np.random.randint(0, 255, size=(3, )) for i in range(200)]\n",
    "colors = [ ( int(color[0]), int(color[1]), int(color[2]) ) for color in colors]\n",
    "\n",
    "def capture_moving_sparse(prev_frame, cur_frame, feat1, mask):\n",
    "    b,g,r = cv2.split(prev_frame) # Changing the order from bgr to rgb so that matplotlib can show it\n",
    "    img1 = cv2.merge([r,g,b])\n",
    "    b,g,r = cv2.split(cur_frame) # Changing the order from bgr to rgb so that matplotlib can show it\n",
    "    img2 = cv2.merge([r,g,b])\n",
    "\n",
    "    gray1 = cv2.cvtColor(img1, cv2.COLOR_RGB2GRAY)\n",
    "    gray2 = cv2.cvtColor(img2, cv2.COLOR_RGB2GRAY)\n",
    "    \n",
    "    feat2, status, error = cv2.calcOpticalFlowPyrLK(gray1, gray2, feat1, None)\n",
    "    \n",
    "    for i, (feature1, feature2) in enumerate(zip(feat1, feat2)):\n",
    "        f10=int(feature1[0][0])\n",
    "        f11=int(feature1[0][1])\n",
    "        f20=int(feature2[0][0])\n",
    "        f21=int(feature2[0][1])\n",
    "\n",
    "        # Choose treshold\n",
    "        if(((f10-f20)**2+(f11-f21)**2)**(1/2)) > 1.5:\n",
    "            cv2.circle(img2, (f10, f11), 5, (0, 255, 0), -1)\n",
    "            cv2.line(mask, (f10,f11), (f20, f21), tuple(colors[i]), 5)\n",
    "        \n",
    "    img2 = cv2.add(img2, mask)\n",
    "    return img2, feat2"
   ]
  },
  {
   "cell_type": "code",
   "execution_count": 33,
   "id": "7daff862",
   "metadata": {},
   "outputs": [],
   "source": [
    "\n",
    "ret, prev_frame = cap.read()\n",
    "line = []\n",
    "\n",
    "b,g,r = cv2.split(prev_frame) # Changing the order from bgr to rgb so that matplotlib can show it\n",
    "img1 = cv2.merge([r,g,b])\n",
    "gray1 = cv2.cvtColor(img1, cv2.COLOR_RGB2GRAY)\n",
    "features = cv2.goodFeaturesToTrack(gray1, maxCorners=100, qualityLevel=0.2, minDistance=5)\n",
    "mask = np.zeros_like(prev_frame)\n",
    "\n",
    "while ret:\n",
    "    ret, cur_frame = cap.read()\n",
    "    outcome, features = capture_moving_sparse(prev_frame, cur_frame, features, mask)\n",
    "    resized = cv2.resize(outcome, (960, 540))\n",
    "    cv2.imshow(\"frame\", resized)\n",
    "    prev_frame = cur_frame\n",
    "    if cv2.waitKey(5) & 0xFF == ord('q'): break\n",
    "cap.release()\n"
   ]
  },
  {
   "cell_type": "code",
   "execution_count": 34,
   "id": "729ddf61",
   "metadata": {},
   "outputs": [],
   "source": [
    "cv2.destroyAllWindows()"
   ]
  },
  {
   "cell_type": "markdown",
   "id": "d6148ff8",
   "metadata": {},
   "source": [
    "# Second part"
   ]
  },
  {
   "cell_type": "code",
   "execution_count": 45,
   "id": "d5a2a82d",
   "metadata": {},
   "outputs": [],
   "source": [
    "import math\n",
    "def capture_moving_dense(prev_frame, cur_frame):\n",
    "    b,g,r = cv2.split(prev_frame) # Changing the order from bgr to rgb so that matplotlib can show it\n",
    "    img1 = cv2.merge([r,g,b])\n",
    "    b,g,r = cv2.split(cur_frame) # Changing the order from bgr to rgb so that matplotlib can show it\n",
    "    img2 = cv2.merge([r,g,b])\n",
    "\n",
    "    gray1 = cv2.cvtColor(img1, cv2.COLOR_RGB2GRAY)\n",
    "    gray2 = cv2.cvtColor(img2, cv2.COLOR_RGB2GRAY)\n",
    "    \n",
    "    flow = cv2.calcOpticalFlowFarneback(gray1, gray2, None, 0.5, 3, 15, 3, 5, 1.5, 0)\n",
    "    mag, ang = cv2.cartToPolar(flow[:,:,0], flow[:,:,1]) # Retrieving the magnitude and angle of every pixel\n",
    "    for row, (mag_rows,ang_rows) in enumerate(zip(mag,ang)):\n",
    "        for column, (magnitude, angle) in enumerate(zip(mag_rows, ang_rows)):\n",
    "            if row % 10 == 0 and column % 10 == 0:\n",
    "                magnitude *= 10\n",
    "                arg = (column, row)\n",
    "                if magnitude == float(\"infinity\"): continue\n",
    "                cv2.line(img2, (arg), (arg[0] + int(math.cos(angle)*magnitude), arg[1]+int(math.sin(angle)*magnitude)), (0, 0, 255), 1)\n",
    "                cv2.circle(img2, (arg), 2, (255, 0, 0), -1)\n",
    "    return img2"
   ]
  },
  {
   "cell_type": "code",
   "execution_count": 46,
   "id": "e22e7a2c",
   "metadata": {},
   "outputs": [],
   "source": [
    "cap = cv2.VideoCapture('Robots.mp4')\n",
    "ret, prev_frame = cap.read()\n",
    "line = []\n",
    "\n",
    "b,g,r = cv2.split(prev_frame) # Changing the order from bgr to rgb so that matplotlib can show it\n",
    "img1 = cv2.merge([r,g,b])\n",
    "gray1 = cv2.cvtColor(img1, cv2.COLOR_RGB2GRAY)\n",
    "features = cv2.goodFeaturesToTrack(gray1, maxCorners=100, qualityLevel=0.2, minDistance=5)\n",
    "mask = np.zeros_like(prev_frame)\n",
    "\n",
    "while ret:\n",
    "    ret, cur_frame = cap.read()\n",
    "    outcome = capture_moving_dense(prev_frame, cur_frame)\n",
    "    resized = cv2.resize(outcome, (960, 540))\n",
    "    cv2.imshow(\"frame\", resized)\n",
    "    prev_frame = cur_frame\n",
    "    if cv2.waitKey(5) & 0xFF == ord('q'): break\n",
    "cap.release()"
   ]
  },
  {
   "cell_type": "code",
   "execution_count": 47,
   "id": "26b5aae4",
   "metadata": {},
   "outputs": [],
   "source": [
    "cv2.destroyAllWindows()"
   ]
  }
 ],
 "metadata": {
  "kernelspec": {
   "display_name": "Python 3 (ipykernel)",
   "language": "python",
   "name": "python3"
  },
  "language_info": {
   "codemirror_mode": {
    "name": "ipython",
    "version": 3
   },
   "file_extension": ".py",
   "mimetype": "text/x-python",
   "name": "python",
   "nbconvert_exporter": "python",
   "pygments_lexer": "ipython3",
   "version": "3.8.10"
  }
 },
 "nbformat": 4,
 "nbformat_minor": 5
}

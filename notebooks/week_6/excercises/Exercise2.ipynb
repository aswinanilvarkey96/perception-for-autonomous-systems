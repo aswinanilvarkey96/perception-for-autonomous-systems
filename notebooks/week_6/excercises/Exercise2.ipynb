{
 "cells": [
  {
   "cell_type": "markdown",
   "metadata": {},
   "source": [
    "# Exercise 2\n",
    "Today we are going to continue work on pointclouds.\n",
    "We will work on trying to cluster pointclouds to be able to segment them.\n",
    "    \n",
    "If you do not have sklearn installed make sure to **pip install scikit-learn**"
   ]
  },
  {
   "cell_type": "code",
   "execution_count": 1,
   "metadata": {},
   "outputs": [
    {
     "name": "stdout",
     "output_type": "stream",
     "text": [
      "Jupyter environment detected. Enabling Open3D WebVisualizer.\n",
      "[Open3D INFO] WebRTC GUI backend enabled.\n",
      "[Open3D INFO] WebRTCWindowSystem: HTTP handshake server disabled.\n"
     ]
    }
   ],
   "source": [
    "import numpy as np\n",
    "import open3d as o3d\n",
    "import copy\n",
    "import matplotlib.pyplot as plt\n",
    "from sklearn import metrics\n",
    "from sklearn.cluster import KMeans, k_means"
   ]
  },
  {
   "cell_type": "code",
   "execution_count": 2,
   "metadata": {},
   "outputs": [],
   "source": [
    "def draw_labels_on_model(pcl,labels):\n",
    "    cmap = plt.get_cmap(\"tab20\")\n",
    "    pcl_temp = copy.deepcopy(pcl)\n",
    "    max_label = labels.max()\n",
    "    print(\"%s has %d clusters\" % (pcl_name, max_label + 1))\n",
    "    colors = cmap(labels / (max_label if max_label > 0 else 1))\n",
    "    colors[labels < 0] = 0\n",
    "    pcl_temp.colors = o3d.utility.Vector3dVector(colors[:, :3])\n",
    "    o3d.visualization.draw_geometries([pcl_temp])\n",
    "\n"
   ]
  },
  {
   "cell_type": "markdown",
   "metadata": {},
   "source": [
    "## On a cube.\n",
    "We createa a point cloud using open3d.\n",
    "Our goal is to segment each side using k means."
   ]
  },
  {
   "cell_type": "code",
   "execution_count": 3,
   "metadata": {},
   "outputs": [
    {
     "name": "stdout",
     "output_type": "stream",
     "text": [
      "Cube has 10000 points\n"
     ]
    }
   ],
   "source": [
    "pcl_name = 'Cube'\n",
    "density = 1e4 # density of sample points to create\n",
    "pcl = o3d.geometry.TriangleMesh.create_box().sample_points_uniformly(int(density))\n",
    "eps = 0.4\n",
    "print(\"%s has %d points\" % (pcl_name, np.asarray(pcl.points).shape[0]))\n",
    "o3d.visualization.draw_geometries([pcl])"
   ]
  },
  {
   "cell_type": "markdown",
   "metadata": {},
   "source": [
    "If we just use Kmeans out of the box with the pointcloud we will get the following\n",
    "\n",
    "\n",
    "Note that pressing plus and minus in the viewer will increase/decrease the size of the points in the viewer"
   ]
  },
  {
   "cell_type": "code",
   "execution_count": 7,
   "metadata": {},
   "outputs": [
    {
     "name": "stdout",
     "output_type": "stream",
     "text": [
      "Cube has 6 clusters\n"
     ]
    }
   ],
   "source": [
    "km = KMeans(n_clusters=6, init='random',\n",
    "            n_init=10, max_iter=300, tol=1e-04, random_state=0)\n",
    "\n",
    "# Get the points from the pointcloud as nparray\n",
    "xyz = np.asarray(pcl.points)\n",
    "labels = km.fit_predict(xyz)\n",
    "draw_labels_on_model(pcl, labels)"
   ]
  },
  {
   "cell_type": "markdown",
   "metadata": {},
   "source": [
    "As we can see we get 6 clusters but they do not span a side.\n",
    "\n",
    "We try again but this time we instead use the normals of the cube.\n",
    "The normals for each plane should be parralell with the other normals from said plane."
   ]
  },
  {
   "cell_type": "code",
   "execution_count": 17,
   "metadata": {},
   "outputs": [
    {
     "name": "stdout",
     "output_type": "stream",
     "text": [
      "Cube has 6 clusters\n"
     ]
    }
   ],
   "source": [
    "pcl.estimate_normals()\n",
    "xyz_n = np.concatenate((xyz, np.asarray(pcl.normals)*1.2), axis=1)\n",
    "labels = km.fit_predict(xyz_n)\n",
    "draw_labels_on_model(pcl, labels)\n"
   ]
  },
  {
   "cell_type": "code",
   "execution_count": 28,
   "metadata": {},
   "outputs": [
    {
     "name": "stdout",
     "output_type": "stream",
     "text": [
      "Cube has 6 clusters\n",
      "\u001b[1;33m[Open3D WARNING] GLFW Error: X11: Failed to open display 10.209.223.203:0.0\u001b[0;m\n",
      "\u001b[1;33m[Open3D WARNING] Failed to initialize GLFW\u001b[0;m\n",
      "\u001b[1;33m[Open3D WARNING] [DrawGeometries] Failed creating OpenGL window.\u001b[0;m\n"
     ]
    },
    {
     "name": "stderr",
     "output_type": "stream",
     "text": [
      "Authorization required, but no authorization protocol specified\n"
     ]
    }
   ],
   "source": [
    "d = 4\n",
    "mesh = o3d.geometry.TriangleMesh.create_tetrahedron().translate((-d, 0, 0))\n",
    "mesh += o3d.geometry.TriangleMesh.create_octahedron().translate((0, 0, 0))\n",
    "mesh += o3d.geometry.TriangleMesh.create_icosahedron().translate((d, 0, 0))\n",
    "mesh += o3d.geometry.TriangleMesh.create_torus().translate((-d, -d, 0))\n",
    "mesh += o3d.geometry.TriangleMesh.create_moebius(twists=1).translate(\n",
    "    (0, -d, 0))\n",
    "mesh += o3d.geometry.TriangleMesh.create_moebius(twists=2).translate(\n",
    "    (d, -d, 0))\n",
    "mesh_points = mesh.sample_points_uniformly(int(1e5))\n",
    "\n",
    "km = KMeans(n_clusters=6, init='random',\n",
    "            n_init=10, max_iter=300, tol=1e-04, random_state=0)\n",
    "\n",
    "# Get the points from the pointcloud as nparray\n",
    "xyz = np.asarray(mesh_points.points)\n",
    "labels = km.fit_predict(xyz)\n",
    "draw_labels_on_model(mesh_points, labels)"
   ]
  },
  {
   "cell_type": "code",
   "execution_count": 57,
   "metadata": {},
   "outputs": [
    {
     "name": "stdout",
     "output_type": "stream",
     "text": [
      "[Open3D DEBUG] Precompute neighbors.\n",
      "[Open3D DEBUG] Done Precompute neighbors.                     ] 2%\n",
      "[Open3D DEBUG] Compute Clusters\n",
      "[Open3D DEBUG] Done Compute Clusters: 10\n",
      "Precompute neighbors.[========================================] 100%\n",
      "Cube has 12 clusters==============================>] 97%\n"
     ]
    }
   ],
   "source": [
    "pcd = o3d.io.read_point_cloud(\"./TestData/fragment.ply\")\n",
    "xyz_colors = np.asarray(pcd.colors)\n",
    "xyz = np.asarray(pcd.points)\n",
    "# pcd_fpfh = o3d.pipelines.registration.compute_fpfh_feature(\n",
    "#         pcd,\n",
    "#         o3d.geometry.KDTreeSearchParamHybrid(radius=10, max_nn=100))\n",
    "\n",
    "\n",
    "km = KMeans(n_clusters=12, init='random',\n",
    "            n_init=10, max_iter=300, tol=1e-04, random_state=0)\n",
    "with o3d.utility.VerbosityContextManager(\n",
    "        o3d.utility.VerbosityLevel.Debug) as cm:\n",
    "    labels = np.array(\n",
    "        pcd.cluster_dbscan(eps=0.02, min_points=10, print_progress=True))\n",
    "xyz_n = np.concatenate((xyz, np.asarray(xyz_colors)*3, np.asarray(labels).reshape(-1,1))*2, axis=1)\n",
    "\n",
    "labels = km.fit_predict(xyz_n)\n",
    "# print(max_label)\n",
    "draw_labels_on_model(pcd, labels)"
   ]
  },
  {
   "cell_type": "markdown",
   "metadata": {},
   "source": [
    "This still does not work, the opposite side will also have normals that point the other way which will parralell.\n",
    "\n",
    "So to combat this we can attempt to use the xyz coordinates and the normals."
   ]
  },
  {
   "cell_type": "markdown",
   "metadata": {},
   "source": [
    "## Exercises\n",
    "\n",
    "### A) K means continued.\n",
    "\n",
    "Combine the point cloud points (xyz) with the normals and do k-means.\n",
    "\n",
    "```xyz_n = np.concatenate((xyz, normals), axis=1)```\n",
    "\n",
    "Do you get better clusters?\n",
    "Why would adding the normals help?\n",
    "\n",
    "### B) \n",
    "Try weighting either the points or normals by scaling them by some factor, can segment each of the faces of the cube?\n",
    "### C)\n",
    "Try to cluster all the different shapes using k means.\n",
    "```{python}\n",
    "d = 4\n",
    "mesh = o3d.geometry.TriangleMesh.create_tetrahedron().translate((-d, 0, 0))\n",
    "mesh += o3d.geometry.TriangleMesh.create_octahedron().translate((0, 0, 0))\n",
    "mesh += o3d.geometry.TriangleMesh.create_icosahedron().translate((d, 0, 0))\n",
    "mesh += o3d.geometry.TriangleMesh.create_torus().translate((-d, -d, 0))\n",
    "mesh += o3d.geometry.TriangleMesh.create_moebius(twists=1).translate(\n",
    "    (0, -d, 0))\n",
    "mesh += o3d.geometry.TriangleMesh.create_moebius(twists=2).translate(\n",
    "    (d, -d, 0))\n",
    "mesh.sample_points_uniformly(int(1e5)), 0.5\n",
    "```\n",
    "\n",
    "### D)\n",
    "Now try with the pointcloud in \"pointclouds/fragment.ply\"\n",
    "Are you able to cluster the pointcloud?\n",
    "\n",
    "What features here would it make sense to cluster?\n",
    "- fpfh features?\n",
    "- xyz\n",
    "- normals \n",
    "- colors\n",
    "\n",
    "Are you able to get clusters that make sense? Why?\n",
    "\n",
    "### E)\n",
    "Use the built in cluster_dbscan algorithm.\n",
    "Tweak the parameters and see what you get out.\n",
    "\n",
    "Attempt on the combined figures and on \"fragment.ply\"\n",
    "```{Python}\n",
    "#eps (float) – Density parameter that is used to find neighbouring points.\n",
    "eps = 0.02\n",
    "\n",
    "#min_points (int) – Minimum number of points to form a cluster.\n",
    "min_points = 10\n",
    "\n",
    "labels = np.array(pcl.cluster_dbscan(eps=eps, min_points=min_points, print_progress=True))\n",
    "```\n"
   ]
  }
 ],
 "metadata": {
  "kernelspec": {
   "display_name": "Python 3 (ipykernel)",
   "language": "python",
   "name": "python3"
  },
  "language_info": {
   "codemirror_mode": {
    "name": "ipython",
    "version": 3
   },
   "file_extension": ".py",
   "mimetype": "text/x-python",
   "name": "python",
   "nbconvert_exporter": "python",
   "pygments_lexer": "ipython3",
   "version": "3.8.10"
  },
  "toc": {
   "base_numbering": 1,
   "nav_menu": {},
   "number_sections": true,
   "sideBar": true,
   "skip_h1_title": false,
   "title_cell": "Table of Contents",
   "title_sidebar": "Contents",
   "toc_cell": false,
   "toc_position": {},
   "toc_section_display": true,
   "toc_window_display": false
  },
  "varInspector": {
   "cols": {
    "lenName": 16,
    "lenType": 16,
    "lenVar": 40
   },
   "kernels_config": {
    "python": {
     "delete_cmd_postfix": "",
     "delete_cmd_prefix": "del ",
     "library": "var_list.py",
     "varRefreshCmd": "print(var_dic_list())"
    },
    "r": {
     "delete_cmd_postfix": ") ",
     "delete_cmd_prefix": "rm(",
     "library": "var_list.r",
     "varRefreshCmd": "cat(var_dic_list()) "
    }
   },
   "types_to_exclude": [
    "module",
    "function",
    "builtin_function_or_method",
    "instance",
    "_Feature"
   ],
   "window_display": false
  }
 },
 "nbformat": 4,
 "nbformat_minor": 4
}

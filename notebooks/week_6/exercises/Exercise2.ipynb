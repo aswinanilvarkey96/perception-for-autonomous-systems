{
 "cells": [
  {
   "cell_type": "markdown",
   "metadata": {},
   "source": [
    "# Exercise 2\n",
    "Today we are going to continue work on pointclouds.\n",
    "We will work on trying to cluster pointclouds to be able to segment them.\n",
    "    \n",
    "If you do not have sklearn installed make sure to **pip install scikit-learn**"
   ]
  },
  {
   "cell_type": "code",
   "execution_count": 2,
   "metadata": {},
   "outputs": [
    {
     "name": "stdout",
     "output_type": "stream",
     "text": [
      "Jupyter environment detected. Enabling Open3D WebVisualizer.\n",
      "[Open3D INFO] WebRTC GUI backend enabled.\n",
      "[Open3D INFO] WebRTCWindowSystem: HTTP handshake server disabled.\n"
     ]
    }
   ],
   "source": [
    "import numpy as np\n",
    "import open3d as o3d\n",
    "import copy\n",
    "import matplotlib.pyplot as plt\n",
    "from sklearn import metrics\n",
    "from sklearn.cluster import KMeans, k_means"
   ]
  },
  {
   "cell_type": "code",
   "execution_count": 3,
   "metadata": {},
   "outputs": [],
   "source": [
    "def draw_labels_on_model(pcl,labels):\n",
    "    cmap = plt.get_cmap(\"tab20\")\n",
    "    pcl_temp = copy.deepcopy(pcl)\n",
    "    max_label = labels.max()\n",
    "    print(\"%s has %d clusters\" % (pcl_name, max_label + 1))\n",
    "    colors = cmap(labels / (max_label if max_label > 0 else 1))\n",
    "    colors[labels < 0] = 0\n",
    "    pcl_temp.colors = o3d.utility.Vector3dVector(colors[:, :3])\n",
    "    o3d.visualization.draw_geometries([pcl_temp])\n",
    "\n"
   ]
  },
  {
   "cell_type": "markdown",
   "metadata": {},
   "source": [
    "## On a cube.\n",
    "We createa a point cloud using open3d.\n",
    "Our goal is to segment each side using k means."
   ]
  },
  {
   "cell_type": "code",
   "execution_count": 4,
   "metadata": {},
   "outputs": [
    {
     "name": "stdout",
     "output_type": "stream",
     "text": [
      "Cube has 10000 points\n",
      "[Open3D WARNING] GLFW Error: WGL: Failed to make context current: The handle is invalid. \n"
     ]
    }
   ],
   "source": [
    "pcl_name = 'Cube'\n",
    "density = 1e4 # density of sample points to create\n",
    "pcl = o3d.geometry.TriangleMesh.create_box().sample_points_uniformly(int(density))\n",
    "eps = 0.4\n",
    "print(\"%s has %d points\" % (pcl_name, np.asarray(pcl.points).shape[0]))\n",
    "o3d.visualization.draw_geometries([pcl])"
   ]
  },
  {
   "cell_type": "markdown",
   "metadata": {},
   "source": [
    "If we just use Kmeans out of the box with the pointcloud we will get the following\n",
    "\n",
    "\n",
    "Note that pressing plus and minus in the viewer will increase/decrease the size of the points in the viewer"
   ]
  },
  {
   "cell_type": "code",
   "execution_count": 9,
   "metadata": {},
   "outputs": [
    {
     "name": "stdout",
     "output_type": "stream",
     "text": [
      "[1 1 5 ... 5 5 5]\n",
      "(10000, 3)\n",
      "Cube has 6 clusters\n"
     ]
    }
   ],
   "source": [
    "km = KMeans(n_clusters=6, init='random',\n",
    "            n_init=10, max_iter=300, tol=1e-04, random_state=0)\n",
    "\n",
    "# Get the points from the pointcloud as nparray\n",
    "xyz = np.asarray(pcl.points)\n",
    "labels = km.fit_predict(xyz)\n",
    "print(labels)\n",
    "print(xyz.shape)\n",
    "draw_labels_on_model(pcl, labels)"
   ]
  },
  {
   "cell_type": "markdown",
   "metadata": {},
   "source": [
    "As we can see we get 6 clusters but they do not span a side.\n",
    "\n",
    "We try again but this time we instead use the normals of the cube.\n",
    "The normals for each plane should be parralell with the other normals from said plane."
   ]
  },
  {
   "cell_type": "code",
   "execution_count": 20,
   "metadata": {},
   "outputs": [
    {
     "name": "stdout",
     "output_type": "stream",
     "text": [
      "std::vector<Eigen::Vector3d> with 10000 elements.\n",
      "Use numpy.asarray() to access data.\n",
      "Cube has 6 clusters\n"
     ]
    }
   ],
   "source": [
    "###\n",
    "# Code goes here\n",
    "###\n",
    "\n",
    "\n",
    "\n",
    "km = KMeans(n_clusters=6, init='random',\n",
    "            n_init=10, max_iter=500, tol=1e-04, random_state=0)\n",
    "\n",
    "# Get the points from the pointcloud as nparray\n",
    "pcl.estimate_normals()\n",
    "print(pcl.normals)\n",
    "xyz = np.concatenate((np.asarray(pcl.points), np.asarray(pcl.normals)*1.5), axis=1)\n",
    "labels = km.fit_predict(xyz)\n",
    "draw_labels_on_model(pcl, labels)"
   ]
  },
  {
   "cell_type": "markdown",
   "metadata": {},
   "source": [
    "This still does not work, the opposite side will also have normals that point the other way which will parralell.\n",
    "\n",
    "So to combat this we can attempt to use the xyz coordinates and the normals."
   ]
  },
  {
   "cell_type": "code",
   "execution_count": 1,
   "metadata": {},
   "outputs": [
    {
     "ename": "NameError",
     "evalue": "name 'o3d' is not defined",
     "output_type": "error",
     "traceback": [
      "\u001b[1;31m---------------------------------------------------------------------------\u001b[0m",
      "\u001b[1;31mNameError\u001b[0m                                 Traceback (most recent call last)",
      "\u001b[1;32mc:\\Users\\JerzyNawrocki\\Projekty\\perception\\perception-for-autonomous-systems\\notebooks\\week_6\\exercises\\Exercise2.ipynb Cell 11'\u001b[0m in \u001b[0;36m<module>\u001b[1;34m\u001b[0m\n\u001b[0;32m      <a href='vscode-notebook-cell:/c%3A/Users/JerzyNawrocki/Projekty/perception/perception-for-autonomous-systems/notebooks/week_6/exercises/Exercise2.ipynb#ch0000010?line=0'>1</a>\u001b[0m \u001b[39m###\u001b[39;00m\n\u001b[0;32m      <a href='vscode-notebook-cell:/c%3A/Users/JerzyNawrocki/Projekty/perception/perception-for-autonomous-systems/notebooks/week_6/exercises/Exercise2.ipynb#ch0000010?line=1'>2</a>\u001b[0m \u001b[39m# Code goes here\u001b[39;00m\n\u001b[0;32m      <a href='vscode-notebook-cell:/c%3A/Users/JerzyNawrocki/Projekty/perception/perception-for-autonomous-systems/notebooks/week_6/exercises/Exercise2.ipynb#ch0000010?line=2'>3</a>\u001b[0m \u001b[39m###\u001b[39;00m\n\u001b[0;32m      <a href='vscode-notebook-cell:/c%3A/Users/JerzyNawrocki/Projekty/perception/perception-for-autonomous-systems/notebooks/week_6/exercises/Exercise2.ipynb#ch0000010?line=4'>5</a>\u001b[0m d \u001b[39m=\u001b[39m \u001b[39m4\u001b[39m\n\u001b[1;32m----> <a href='vscode-notebook-cell:/c%3A/Users/JerzyNawrocki/Projekty/perception/perception-for-autonomous-systems/notebooks/week_6/exercises/Exercise2.ipynb#ch0000010?line=5'>6</a>\u001b[0m mesh \u001b[39m=\u001b[39m o3d\u001b[39m.\u001b[39mgeometry\u001b[39m.\u001b[39mTriangleMesh\u001b[39m.\u001b[39mcreate_tetrahedron()\u001b[39m.\u001b[39mtranslate((\u001b[39m-\u001b[39md, \u001b[39m0\u001b[39m, \u001b[39m0\u001b[39m))\n\u001b[0;32m      <a href='vscode-notebook-cell:/c%3A/Users/JerzyNawrocki/Projekty/perception/perception-for-autonomous-systems/notebooks/week_6/exercises/Exercise2.ipynb#ch0000010?line=6'>7</a>\u001b[0m mesh \u001b[39m+\u001b[39m\u001b[39m=\u001b[39m o3d\u001b[39m.\u001b[39mgeometry\u001b[39m.\u001b[39mTriangleMesh\u001b[39m.\u001b[39mcreate_octahedron()\u001b[39m.\u001b[39mtranslate((\u001b[39m0\u001b[39m, \u001b[39m0\u001b[39m, \u001b[39m0\u001b[39m))\n\u001b[0;32m      <a href='vscode-notebook-cell:/c%3A/Users/JerzyNawrocki/Projekty/perception/perception-for-autonomous-systems/notebooks/week_6/exercises/Exercise2.ipynb#ch0000010?line=7'>8</a>\u001b[0m mesh \u001b[39m+\u001b[39m\u001b[39m=\u001b[39m o3d\u001b[39m.\u001b[39mgeometry\u001b[39m.\u001b[39mTriangleMesh\u001b[39m.\u001b[39mcreate_icosahedron()\u001b[39m.\u001b[39mtranslate((d, \u001b[39m0\u001b[39m, \u001b[39m0\u001b[39m))\n",
      "\u001b[1;31mNameError\u001b[0m: name 'o3d' is not defined"
     ]
    }
   ],
   "source": [
    "###\n",
    "# Code goes here\n",
    "###\n",
    "\n",
    "d = 4\n",
    "mesh = o3d.geometry.TriangleMesh.create_tetrahedron().translate((-d, 0, 0))\n",
    "mesh += o3d.geometry.TriangleMesh.create_octahedron().translate((0, 0, 0))\n",
    "mesh += o3d.geometry.TriangleMesh.create_icosahedron().translate((d, 0, 0))\n",
    "mesh += o3d.geometry.TriangleMesh.create_torus().translate((-d, -d, 0))\n",
    "mesh += o3d.geometry.TriangleMesh.create_mobius(twists=1).translate((0, -d, 0))\n",
    "mesh += o3d.geometry.TriangleMesh.create_mobius(twists=2).translate((d, -d, 0))\n",
    "mesh_points = mesh.sample_points_uniformly(int(1e5))\n",
    "\n",
    "o3d.visualization.draw_geometries([mesh])\n",
    "\n",
    "km = KMeans(n_clusters=6, init='random',\n",
    "            n_init=10, max_iter=500, tol=1e-04, random_state=0)\n",
    "\n",
    "# Get the points from the pointcloud as nparray\n",
    "xyz = np.asarray(mesh_points.points)\n",
    "labels = km.fit_predict(xyz)\n",
    "print(labels)\n",
    "draw_labels_on_model(mesh_points, labels)"
   ]
  },
  {
   "cell_type": "code",
   "execution_count": 42,
   "metadata": {},
   "outputs": [
    {
     "name": "stdout",
     "output_type": "stream",
     "text": [
      "Cube has 6 clusters\n"
     ]
    }
   ],
   "source": [
    "pc = o3d.io.read_point_cloud(\"TestData/fragment.ply\")\n",
    "\n",
    "km = KMeans(n_clusters=6, init='random',\n",
    "            n_init=10, max_iter=500, tol=1e-04, random_state=0)\n",
    "\n",
    "voxel_size = 0.1\n",
    "pc_sample = pc.voxel_down_sample(voxel_size)\n",
    "\n",
    "default_tree = o3d.geometry.KDTreeSearchParamHybrid(radius=10,max_nn=60)\n",
    "\n",
    "pc.estimate_normals()\n",
    "\n",
    "fpfh = o3d.pipelines.registration.compute_fpfh_feature(pc_sample, default_tree)\n",
    "# Get the points from the pointcloud as nparray\n",
    "xyz = np.concatenate((np.asarray(pc.points), np.asarray(pc.normals)*1.5), axis=1)\n",
    "labels = km.fit_predict(xyz)\n",
    "draw_labels_on_model(pc, labels)"
   ]
  },
  {
   "cell_type": "code",
   "execution_count": 54,
   "metadata": {},
   "outputs": [
    {
     "name": "stdout",
     "output_type": "stream",
     "text": [
      "Cube has 1 clusters\n"
     ]
    }
   ],
   "source": [
    "#eps (float) – Density parameter that is used to find neighbouring points.\n",
    "eps = 0.1\n",
    "\n",
    "#min_points (int) – Minimum number of points to form a cluster.\n",
    "min_points = 2\n",
    "\n",
    "labels = np.array(pc.cluster_dbscan(eps=eps, min_points=min_points, print_progress=True))\n",
    "print(labels)\n",
    "draw_labels_on_model(pc, labels)"
   ]
  },
  {
   "cell_type": "markdown",
   "metadata": {},
   "source": [
    "## Exercises\n",
    "\n",
    "### A) K means continued.\n",
    "\n",
    "Combine the point cloud points (xyz) with the normals and do k-means.\n",
    "\n",
    "```xyz_n = np.concatenate((xyz, normals), axis=1)```\n",
    "\n",
    "Do you get better clusters?\n",
    "Why would adding the normals help?\n",
    "\n",
    "### B) \n",
    "Try weighting either the points or normals by scaling them by some factor, can segment each of the faces of the cube?\n",
    "### C)\n",
    "Try to cluster all the different shapes using k means.\n",
    "```{python}\n",
    "d = 4\n",
    "mesh = o3d.geometry.TriangleMesh.create_tetrahedron().translate((-d, 0, 0))\n",
    "mesh += o3d.geometry.TriangleMesh.create_octahedron().translate((0, 0, 0))\n",
    "mesh += o3d.geometry.TriangleMesh.create_icosahedron().translate((d, 0, 0))\n",
    "mesh += o3d.geometry.TriangleMesh.create_torus().translate((-d, -d, 0))\n",
    "mesh += o3d.geometry.TriangleMesh.create_moebius(twists=1).translate(\n",
    "    (0, -d, 0))\n",
    "mesh += o3d.geometry.TriangleMesh.create_moebius(twists=2).translate(\n",
    "    (d, -d, 0))\n",
    "mesh.sample_points_uniformly(int(1e5)), 0.5\n",
    "```\n",
    "\n",
    "### D)\n",
    "Now try with the pointcloud in \"pointclouds/fragment.ply\"\n",
    "Are you able to cluster the pointcloud?\n",
    "\n",
    "What features here would it make sense to cluster?\n",
    "- fpfh features?\n",
    "- xyz\n",
    "- normals \n",
    "- colors\n",
    "\n",
    "Are you able to get clusters that make sense? Why?\n",
    "\n",
    "### E)\n",
    "Use the built in cluster_dbscan algorithm.\n",
    "Tweak the parameters and see what you get out.\n",
    "\n",
    "Attempt on the combined figures and on \"fragment.ply\"\n",
    "```{Python}\n",
    "#eps (float) – Density parameter that is used to find neighbouring points.\n",
    "eps = 0.02\n",
    "\n",
    "#min_points (int) – Minimum number of points to form a cluster.\n",
    "min_points = 10\n",
    "\n",
    "labels = np.array(pcl.cluster_dbscan(eps=eps, min_points=min_points, print_progress=True))\n",
    "```\n"
   ]
  }
 ],
 "metadata": {
  "kernelspec": {
   "display_name": "Python 3 (ipykernel)",
   "language": "python",
   "name": "python3"
  },
  "language_info": {
   "codemirror_mode": {
    "name": "ipython",
    "version": 3
   },
   "file_extension": ".py",
   "mimetype": "text/x-python",
   "name": "python",
   "nbconvert_exporter": "python",
   "pygments_lexer": "ipython3",
   "version": "3.8.12"
  },
  "toc": {
   "base_numbering": 1,
   "nav_menu": {},
   "number_sections": true,
   "sideBar": true,
   "skip_h1_title": false,
   "title_cell": "Table of Contents",
   "title_sidebar": "Contents",
   "toc_cell": false,
   "toc_position": {},
   "toc_section_display": true,
   "toc_window_display": false
  },
  "varInspector": {
   "cols": {
    "lenName": 16,
    "lenType": 16,
    "lenVar": 40
   },
   "kernels_config": {
    "python": {
     "delete_cmd_postfix": "",
     "delete_cmd_prefix": "del ",
     "library": "var_list.py",
     "varRefreshCmd": "print(var_dic_list())"
    },
    "r": {
     "delete_cmd_postfix": ") ",
     "delete_cmd_prefix": "rm(",
     "library": "var_list.r",
     "varRefreshCmd": "cat(var_dic_list()) "
    }
   },
   "types_to_exclude": [
    "module",
    "function",
    "builtin_function_or_method",
    "instance",
    "_Feature"
   ],
   "window_display": false
  }
 },
 "nbformat": 4,
 "nbformat_minor": 4
}

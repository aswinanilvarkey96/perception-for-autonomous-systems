{
 "cells": [
  {
   "cell_type": "markdown",
   "metadata": {},
   "source": [
    "# Weekly project 6\n",
    "Today we will continue work from monday.\n",
    "We will follow the style of last week.\n",
    "\n",
    "Weekly project:\n",
    "- You will need to implement your own k-means algorithm. (So you are not allowed to use the one in *sklearn*\n",
    "- it should be able to cluster each of the different figures.\n",
    "- Extend your k-means so it finds the optimal amount of clusters.\n",
    "Challenge\n",
    "- Implement the mean shift clustering algorithm\n"
   ]
  },
  {
   "cell_type": "code",
   "execution_count": 1,
   "metadata": {},
   "outputs": [
    {
     "name": "stdout",
     "output_type": "stream",
     "text": [
      "Jupyter environment detected. Enabling Open3D WebVisualizer.\n",
      "[Open3D INFO] WebRTC GUI backend enabled.\n",
      "[Open3D INFO] WebRTCWindowSystem: HTTP handshake server disabled.\n"
     ]
    }
   ],
   "source": [
    "import numpy as np\n",
    "import open3d as o3d\n",
    "import copy\n",
    "import matplotlib.pyplot as plt\n",
    "\n",
    "def draw_labels_on_model(pcl, labels):\n",
    "    cmap = plt.get_cmap(\"tab20\")\n",
    "    pcl_temp = copy.deepcopy(pcl)\n",
    "    max_label = labels.max()\n",
    "    colors = cmap(labels / (max_label if max_label > 0 else 1))\n",
    "    colors[labels < 0] = 0\n",
    "    pcl_temp.colors = o3d.utility.Vector3dVector(colors[:, :3])\n",
    "    o3d.visualization.draw_geometries([pcl_temp])\n",
    "\n",
    "d = 4\n",
    "mesh = o3d.geometry.TriangleMesh.create_tetrahedron().translate((-d, 0, 0))\n",
    "mesh += o3d.geometry.TriangleMesh.create_octahedron().translate((0, 0, 0))\n",
    "mesh += o3d.geometry.TriangleMesh.create_icosahedron().translate((d, 0, 0))\n",
    "mesh += o3d.geometry.TriangleMesh.create_torus().translate((-d, -d, 0))\n",
    "mesh += o3d.geometry.TriangleMesh.create_mobius(twists=1).translate((0, -d, 0))\n",
    "mesh += o3d.geometry.TriangleMesh.create_mobius(twists=2).translate((d, -d, 0))\n",
    "\n",
    "## apply k means on this\n",
    "point_cloud = mesh.sample_points_uniformly(int(1e3))\n",
    "\n",
    "o3d.visualization.draw_geometries([point_cloud])"
   ]
  },
  {
   "cell_type": "code",
   "execution_count": 2,
   "metadata": {},
   "outputs": [],
   "source": [
    "def KMeans(mesh_points, num_of_centroids=6):\n",
    "    counter = 0\n",
    "    max_counter = 50\n",
    "    # range_of_mesh = np.array([3, 3, 1])\n",
    "    range_of_mesh = np.max(mesh_points, axis=0)\n",
    "    centroids = [ np.random.rand(3)-0.5 for _ in range(num_of_centroids)]\n",
    "    for c in centroids:\n",
    "        for j in range(range_of_mesh.shape[0]):\n",
    "            c[j] *= range_of_mesh[j]/2\n",
    "\n",
    "    new_centroids = [ np.zeros(3)-0.5 for _ in range(num_of_centroids)]\n",
    "    diff = [0 for _ in range(num_of_centroids)]\n",
    "    mesh_cluster = np.zeros(mesh_points.shape[0])\n",
    "    while(1):\n",
    "        for i in range(mesh_points.shape[0]):\n",
    "            #Assign each observation to the cluster\n",
    "            for j in range(num_of_centroids):\n",
    "                diff[j] = np.sum(np.absolute(mesh_points[i] - centroids[j]))\n",
    "            mesh_cluster[i] = np.argmin(diff)\n",
    "\n",
    "        #new cluster\n",
    "        for i in range(num_of_centroids):\n",
    "            new_centroids[i] = np.mean(mesh_points[mesh_cluster == i], axis=0)\n",
    "\n",
    "        counter_of_equal_centroids = 0\n",
    "        for c in range(num_of_centroids):\n",
    "            if(np.sum((new_centroids[c] == centroids[c])) == 0):\n",
    "                counter_of_equal_centroids += 1\n",
    "\n",
    "        counter += 1\n",
    "\n",
    "        if (counter_of_equal_centroids == 0 or counter == max_counter):\n",
    "            break\n",
    "        else:\n",
    "            \n",
    "            for i in range(num_of_centroids):\n",
    "                centroids[i] = copy.deepcopy(new_centroids[i])\n",
    "                \n",
    "    return mesh_cluster, centroids\n",
    "\n",
    "point_labels, _ = KMeans(np.array(point_cloud.points))\n",
    "draw_labels_on_model(point_cloud, point_labels)\n",
    "\n"
   ]
  },
  {
   "cell_type": "code",
   "execution_count": 13,
   "metadata": {},
   "outputs": [
    {
     "name": "stdout",
     "output_type": "stream",
     "text": [
      "Calculated 1 out of 50\n",
      "Calculated 2 out of 50\n",
      "Calculated 3 out of 50\n",
      "Calculated 4 out of 50\n",
      "Calculated 5 out of 50\n",
      "Calculated 6 out of 50\n",
      "Calculated 7 out of 50\n",
      "Calculated 8 out of 50\n",
      "Calculated 9 out of 50\n",
      "Calculated 10 out of 50\n",
      "Calculated 11 out of 50\n",
      "Calculated 12 out of 50\n",
      "Calculated 13 out of 50\n",
      "Calculated 14 out of 50\n",
      "Calculated 15 out of 50\n",
      "Calculated 16 out of 50\n",
      "Calculated 17 out of 50\n",
      "Calculated 18 out of 50\n",
      "Calculated 19 out of 50\n",
      "Calculated 20 out of 50\n",
      "Calculated 21 out of 50\n",
      "Calculated 22 out of 50\n",
      "Calculated 23 out of 50\n",
      "Calculated 24 out of 50\n",
      "Calculated 25 out of 50\n",
      "Calculated 26 out of 50\n",
      "Calculated 27 out of 50\n",
      "Calculated 28 out of 50\n",
      "Calculated 29 out of 50\n",
      "Calculated 30 out of 50\n",
      "Calculated 31 out of 50\n",
      "Calculated 32 out of 50\n",
      "Calculated 33 out of 50\n",
      "Calculated 34 out of 50\n",
      "Calculated 35 out of 50\n",
      "Calculated 36 out of 50\n",
      "Calculated 37 out of 50\n",
      "Calculated 38 out of 50\n",
      "Calculated 39 out of 50\n",
      "Calculated 40 out of 50\n",
      "Calculated 41 out of 50\n",
      "Calculated 42 out of 50\n",
      "Calculated 43 out of 50\n",
      "Calculated 44 out of 50\n",
      "Calculated 45 out of 50\n",
      "Calculated 46 out of 50\n",
      "Calculated 47 out of 50\n",
      "Calculated 48 out of 50\n",
      "Calculated 49 out of 50\n",
      "Calculated 50 out of 50\n"
     ]
    }
   ],
   "source": [
    "error_list = []\n",
    "max_k = 50\n",
    "for k in range(1, max_k + 1):\n",
    "    xyz = np.array(point_cloud.points)\n",
    "    mesh_cluster, centroids = KMeans(xyz, num_of_centroids=k)\n",
    "    error = 0\n",
    "    for c in range(k):\n",
    "        for p in xyz[mesh_cluster == c]:\n",
    "            error += np.sum(np.power((p - centroids[c]), 2))\n",
    "    error_list.append(error)\n",
    "    print(f\"Calculated {k} out of {max_k}\")\n",
    "\n"
   ]
  },
  {
   "cell_type": "code",
   "execution_count": 14,
   "metadata": {},
   "outputs": [
    {
     "name": "stdout",
     "output_type": "stream",
     "text": [
      "[18191.307731403846, 5939.485987027821, 4312.313178538513, 3011.2460056886166, 2911.05053133531, 1771.4562371128159, 1644.8181119932792, 1398.5970990420471, 1278.8563382379032, 1275.6038604854862, 1372.2511117587378, nan, nan, nan, nan, nan, nan, nan, nan, nan, nan, nan, nan, nan, nan, nan, nan, nan, nan, nan, nan, nan, nan, nan, nan, nan, nan, nan, nan, nan, nan, nan, nan, nan, nan, nan, nan, nan, nan, nan]\n"
     ]
    }
   ],
   "source": [
    "print(error_list)"
   ]
  },
  {
   "cell_type": "code",
   "execution_count": 15,
   "metadata": {},
   "outputs": [
    {
     "data": {
      "text/plain": [
       "[<matplotlib.lines.Line2D at 0x19d97076e80>]"
      ]
     },
     "execution_count": 15,
     "metadata": {},
     "output_type": "execute_result"
    },
    {
     "data": {
      "image/png": "[encoded data removed]",
      "text/plain": [
       "<Figure size 432x288 with 1 Axes>"
      ]
     },
     "metadata": {
      "needs_background": "light"
     },
     "output_type": "display_data"
    }
   ],
   "source": [
    "plt.figure()\n",
    "plt.plot(error_list)"
   ]
  }
 ],
 "metadata": {
  "kernelspec": {
   "display_name": "Python 3 (ipykernel)",
   "language": "python",
   "name": "python3"
  },
  "language_info": {
   "codemirror_mode": {
    "name": "ipython",
    "version": 3
   },
   "file_extension": ".py",
   "mimetype": "text/x-python",
   "name": "python",
   "nbconvert_exporter": "python",
   "pygments_lexer": "ipython3",
   "version": "3.8.12"
  },
  "toc": {
   "base_numbering": 1,
   "nav_menu": {},
   "number_sections": true,
   "sideBar": true,
   "skip_h1_title": false,
   "title_cell": "Table of Contents",
   "title_sidebar": "Contents",
   "toc_cell": false,
   "toc_position": {},
   "toc_section_display": true,
   "toc_window_display": false
  },
  "varInspector": {
   "cols": {
    "lenName": 16,
    "lenType": 16,
    "lenVar": 40
   },
   "kernels_config": {
    "python": {
     "delete_cmd_postfix": "",
     "delete_cmd_prefix": "del ",
     "library": "var_list.py",
     "varRefreshCmd": "print(var_dic_list())"
    },
    "r": {
     "delete_cmd_postfix": ") ",
     "delete_cmd_prefix": "rm(",
     "library": "var_list.r",
     "varRefreshCmd": "cat(var_dic_list()) "
    }
   },
   "types_to_exclude": [
    "module",
    "function",
    "builtin_function_or_method",
    "instance",
    "_Feature"
   ],
   "window_display": false
  }
 },
 "nbformat": 4,
 "nbformat_minor": 4
}

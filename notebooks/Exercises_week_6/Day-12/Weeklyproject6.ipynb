{
 "cells": [
  {
   "cell_type": "markdown",
   "metadata": {},
   "source": [
    "# Weekly project 6\n",
    "Today we will continue work from monday.\n",
    "We will follow the style of last week.\n",
    "\n",
    "Weekly project:\n",
    "- You will need to implement your own k-means algorithm. (So you are not allowed to use the one in *sklearn*\n",
    "- it should be able to cluster each of the different figures.\n",
    "- Extend your k-means so it finds the optimal amount of clusters.\n",
    "Challenge\n",
    "- Implement the mean shift clustering algorithm\n"
   ]
  },
  {
   "cell_type": "code",
   "execution_count": 1,
   "metadata": {},
   "outputs": [
    {
     "name": "stdout",
     "output_type": "stream",
     "text": [
      "Jupyter environment detected. Enabling Open3D WebVisualizer.\n",
      "[Open3D INFO] WebRTC GUI backend enabled.\n",
      "[Open3D INFO] WebRTCWindowSystem: HTTP handshake server disabled.\n"
     ]
    },
    {
     "name": "stderr",
     "output_type": "stream",
     "text": [
      "INFO - 2022-03-17 08:42:54,383 - utils - NumExpr defaulting to 8 threads.\n"
     ]
    }
   ],
   "source": [
    "import numpy as np\n",
    "import open3d as o3d\n",
    "import copy\n",
    "import matplotlib.pyplot as plt\n",
    "\n",
    "def draw_labels_on_model(pcl, labels):\n",
    "    cmap = plt.get_cmap(\"tab20\")\n",
    "    pcl_temp = copy.deepcopy(pcl)\n",
    "    max_label = labels.max()\n",
    "    colors = cmap(labels / (max_label if max_label > 0 else 1))\n",
    "    colors[labels < 0] = 0\n",
    "    pcl_temp.colors = o3d.utility.Vector3dVector(colors[:, :3])\n",
    "    o3d.visualization.draw_geometries([pcl_temp])\n",
    "\n",
    "d = 4\n",
    "mesh = o3d.geometry.TriangleMesh.create_tetrahedron().translate((-d, 0, 0))\n",
    "mesh += o3d.geometry.TriangleMesh.create_octahedron().translate((0, 0, 0))\n",
    "mesh += o3d.geometry.TriangleMesh.create_icosahedron().translate((d, 0, 0))\n",
    "mesh += o3d.geometry.TriangleMesh.create_torus().translate((-d, -d, 0))\n",
    "mesh += o3d.geometry.TriangleMesh.create_moebius(twists=1).translate((0, -d, 0))\n",
    "mesh += o3d.geometry.TriangleMesh.create_moebius(twists=2).translate((d, -d, 0))\n",
    "\n",
    "## apply k means on this\n",
    "point_cloud = mesh.sample_points_uniformly(int(1e3))"
   ]
  },
  {
   "cell_type": "code",
   "execution_count": null,
   "metadata": {},
   "outputs": [],
   "source": [
    "o3d.visualization.draw_geometries([point_cloud])"
   ]
  },
  {
   "cell_type": "code",
   "execution_count": 3,
   "metadata": {},
   "outputs": [],
   "source": [
    "\n",
    "##draw labels on the point cloud\n",
    "def draw_labels_on_model(pcl,labels):\n",
    "    cmap = plt.get_cmap(\"tab20\")\n",
    "    pcl_temp = copy.deepcopy(pcl)\n",
    "    max_label = labels.max()\n",
    "    colors = cmap(labels / (max_label if max_label > 0 else 1))\n",
    "    pcl_temp.colors = o3d.utility.Vector3dVector(colors[:,:3])\n",
    "    o3d.visualization.draw_geometries([pcl_temp])"
   ]
  },
  {
   "cell_type": "code",
   "execution_count": 96,
   "metadata": {},
   "outputs": [],
   "source": [
    "xyz = np.asarray(point_cloud.points)\n",
    "\n",
    "##define several necessary methods here\n",
    "#normalize the dataset\n",
    "def normalize(X,axis=-1,p=2):\n",
    "    #normalize the array and then transfer into a vector\n",
    "    lp_norm = np.atleast_1d(np.linalg.norm(X,p,axis))\n",
    "    lp_norm[lp_norm == 0] = 1\n",
    "    #expand a dimension along axis for lp_norm\n",
    "    #this is to make sure X and lp_norm have the same dimensions\n",
    "    return X / np.expand_dims(lp_norm,axis)\n",
    "\n",
    "def euclidean_distance(one_sample,X):\n",
    "    #transfer one_sample into 1D vector\n",
    "    one_sample = one_sample.reshape(1,-1)\n",
    "    #transfer X into 1D vector\n",
    "    X = X.reshape(X.shape[0],-1)\n",
    "    #this is used to make sure one_sample's dimension is same as X\n",
    "    distances = np.power(np.tile(one_sample,(X.shape[0],1))-X,2).sum(axis=1)\n",
    "    return distances\n",
    "\n",
    "class Kmeans():\n",
    "    #constructor\n",
    "    def __init__(self,k=2,max_iterations=1500,tolerance=0.00001):\n",
    "        self.k = k\n",
    "        self.max_iterations = max_iterations\n",
    "        self.tolerance = tolerance\n",
    "        self.n_features = 1000\n",
    "        self.centroids = np.zeros((self.k,self.n_features))  \n",
    "    \n",
    "    #randomly select k centroids\n",
    "    def init_random_centroids(self,X):\n",
    "        #save the shape of X\n",
    "        n_samples, n_features = np.shape(X)\n",
    "        #make a zero matrix to store values\n",
    "        centroids = np.zeros((self.k,n_features))\n",
    "        #bcs there is k centroids, so we loop k tiems\n",
    "        for i in range(self.k):\n",
    "            #selecting values under the range radomly\n",
    "            centroid = X[np.random.choice(range(n_samples))]\n",
    "            centroids[i] = centroid\n",
    "        return centroids\n",
    "\n",
    "    #find the closest centroid of a sample\n",
    "    def closest_centroid(self,sample,centroids):\n",
    "        distances = euclidean_distance(sample,centroids)\n",
    "        #np.argmin return the indices of the minimum of distances\n",
    "        closest_i = np.argmin(distances)\n",
    "        return closest_i\n",
    "\n",
    "    #determine the clusers\n",
    "    def create_clusters(self,centroids,X):\n",
    "        n_samples = np.shape(X)[0]\n",
    "        #This is to construct the nested list for storing clusters\n",
    "        clusters = [[] for _ in range(self.k)]\n",
    "        for sample_i, sample in enumerate(X):\n",
    "            centroid_i = self.closest_centroid(sample,centroids)\n",
    "            clusters[centroid_i].append(sample_i)\n",
    "        self.clusters = clusters\n",
    "        return clusters\n",
    "\n",
    "    #update the centroids based on mean algorithm\n",
    "    def update_centroids(self,clusters,X):\n",
    "        n_features = np.shape(X)[1]\n",
    "        centroids = np.zeros((self.k,n_features))\n",
    "        for i, cluster in enumerate(clusters):\n",
    "            centroid = np.mean(X[cluster],axis=0)\n",
    "            centroids[i] = centroid\n",
    "        self.centroids = centroids\n",
    "        return centroids\n",
    "\n",
    "    #obtain the labels\n",
    "    #same cluster, same y_pred value\n",
    "    def get_cluster_labels(self,clusters,X):\n",
    "        y_pred = np.zeros(np.shape(X)[0])\n",
    "        for cluster_i, cluster in enumerate(clusters):\n",
    "            for sample_i in cluster:\n",
    "                y_pred[sample_i] = cluster_i\n",
    "        return y_pred\n",
    "\n",
    "    #predict the labels\n",
    "    def predict(self,X):\n",
    "        #selecting the centroids randomly\n",
    "        centroids = self.init_random_centroids(X)\n",
    "\n",
    "        for _ in range(self.max_iterations):\n",
    "            #clustering all the data point\n",
    "            clusters = self.create_clusters(centroids,X)\n",
    "            former_centroids = centroids\n",
    "            #calculate new cluster center\n",
    "            centroids = self.update_centroids(clusters,X)\n",
    "            #judge the current difference if it meets convergence  \n",
    "            diff = centroids - former_centroids\n",
    "            if diff.any() < self.tolerance:\n",
    "                break\n",
    "            \n",
    "        return self.get_cluster_labels(clusters,X) \n",
    "    \n",
    "    def plot_distortion(self,X):\n",
    "        distort = 0\n",
    "        for sample_i, sample in enumerate(X):\n",
    "            centroid_i = self.closest_centroid(sample,self.centroids)\n",
    "            distort += np.sum(np.square(np.abs(sample-self.centroids[centroid_i])))\n",
    "        return distort"
   ]
  },
  {
   "cell_type": "code",
   "execution_count": 95,
   "metadata": {},
   "outputs": [
    {
     "name": "stdout",
     "output_type": "stream",
     "text": [
      "[[ 3.04438290e+00 -3.68255001e-01  3.07996935e-01]\n",
      " [ 4.87935584e+00 -3.11132064e-01  5.17381842e-01]\n",
      " [-3.99833352e+00 -3.23191964e+00  8.85601080e-04]\n",
      " [ 4.00345771e+00  6.96006809e-01 -8.74447247e-01]\n",
      " [ 3.80637026e+00 -4.03515619e+00 -4.78178134e-03]\n",
      " [-2.05827975e-02 -1.80286260e+00 -5.12780722e-03]]\n",
      "2690.681047685573\n"
     ]
    }
   ],
   "source": [
    "clf = Kmeans(k=6)\n",
    "labels = clf.predict(xyz)\n",
    "print(clf.plot_distortion(xyz))\n",
    "#draw_labels_on_model(point_cloud, labels)"
   ]
  },
  {
   "cell_type": "code",
   "execution_count": 108,
   "metadata": {},
   "outputs": [
    {
     "name": "stdout",
     "output_type": "stream",
     "text": [
      "[5877.361996999148, 4319.84496992966, 2963.7926995734647, 2378.0984720250763, 2444.4753912748088, 1730.7134433685849, 1668.2157303749887, 1095.657531509165, 1105.656485588613, 1025.5805342706562, 912.4350058859263, 842.688201868953, 759.304928041893, 914.6962412353823]\n"
     ]
    },
    {
     "data": {
      "text/plain": [
       "[<matplotlib.lines.Line2D at 0x7f1fa0835400>]"
      ]
     },
     "execution_count": 108,
     "metadata": {},
     "output_type": "execute_result"
    },
    {
     "data": {
      "image/png": "[encoded data removed]",
      "text/plain": [
       "<Figure size 432x288 with 1 Axes>"
      ]
     },
     "metadata": {
      "needs_background": "light"
     },
     "output_type": "display_data"
    }
   ],
   "source": [
    "limit = 15\n",
    "clustering = []\n",
    "for k in range(2,limit+1):\n",
    "    clf = Kmeans(k=k)\n",
    "    labels = clf.predict(xyz)\n",
    "    plot_distortion = clf.plot_distortion(xyz)\n",
    "    clustering.append(plot_distortion)\n",
    "    \n",
    "print(clustering)\n",
    "plt.plot(range(2,limit+1),clustering)"
   ]
  },
  {
   "cell_type": "code",
   "execution_count": 104,
   "metadata": {},
   "outputs": [
    {
     "name": "stdout",
     "output_type": "stream",
     "text": [
      "[3, 4715.257791548838]\n"
     ]
    }
   ],
   "source": [
    "print(clustering[1])"
   ]
  },
  {
   "cell_type": "code",
   "execution_count": 14,
   "metadata": {},
   "outputs": [
    {
     "name": "stdout",
     "output_type": "stream",
     "text": [
      "[[ 3.66960625  1.29408604  0.9935542 ]\n",
      " [ 3.28345381  1.07431182 -0.82717598]\n",
      " [-4.21482804 -5.46691418  0.07782658]\n",
      " [-0.49893556 -0.15086419  0.35020025]\n",
      " [ 5.30547996 -0.039546    0.81827708]\n",
      " [ 4.43135395 -1.45327144  0.57487836]]\n",
      "(1000, 3)\n",
      "474\n"
     ]
    }
   ],
   "source": [
    "def init_random_centroids(X):\n",
    "    #save the shape of X\n",
    "    k=6\n",
    "    n_samples, n_features = np.shape(X)\n",
    "    #make a zero matrix to store values\n",
    "    centroids = np.zeros((k,n_features))\n",
    "    #bcs there is k centroids, so we loop k tiems\n",
    "    for i in range(k):\n",
    "        #selecting values under the range radomly\n",
    "        centroid = X[np.random.choice(range(n_samples))]\n",
    "        centroids[i] = centroid\n",
    "    return centroids\n",
    "\n",
    "print(init_random_centroids(xyz))\n",
    "print(xyz.shape)\n",
    "n_samples, n_featuQres = np.shape(xyz)\n",
    "print(np.random.choice(range(n_samples)))"
   ]
  },
  {
   "cell_type": "code",
   "execution_count": 110,
   "metadata": {},
   "outputs": [
    {
     "data": {
      "image/png": "[encoded data removed]",
      "text/plain": [
       "<Figure size 432x288 with 1 Axes>"
      ]
     },
     "metadata": {
      "needs_background": "light"
     },
     "output_type": "display_data"
    }
   ],
   "source": [
    "class Mean_Shift:\n",
    "    def __init__(self, radius=4):\n",
    "        self.radius = radius\n",
    "    def fit(self, data):\n",
    "        centroids = {}\n",
    "\n",
    "        for i in range(len(data)):\n",
    "            centroids[i] = data[i]\n",
    "        while True:\n",
    "            new_centroids = []\n",
    "            for i in centroids:\n",
    "                in_bandwidth = []\n",
    "                centroid = centroids[i]\n",
    "                for featureset in data:\n",
    "                    if np.linalg.norm(featureset-centroid) < self.radius:\n",
    "                        in_bandwidth.append(featureset)\n",
    "\n",
    "                new_centroid = np.average(in_bandwidth,axis=0)\n",
    "                new_centroids.append(tuple(new_centroid))\n",
    "\n",
    "            uniques = sorted(list(set(new_centroids)))\n",
    "            prev_centroids = dict(centroids)\n",
    "\n",
    "            centroids = {}\n",
    "            for i in range(len(uniques)):\n",
    "                centroids[i] = np.array(uniques[i])\n",
    "\n",
    "            optimized = True\n",
    "\n",
    "            for i in centroids:\n",
    "                if not np.array_equal(centroids[i], prev_centroids[i]):\n",
    "                    optimized = False\n",
    "                if not optimized:\n",
    "                    break\n",
    "                \n",
    "            if optimized:\n",
    "                break\n",
    "\n",
    "        self.centroids = centroids\n",
    "        \n",
    "clf = Mean_Shift()\n",
    "clf.fit(xyz)\n",
    "\n",
    "centroids = clf.centroids\n",
    "\n",
    "plt.scatter(xyz[:,0], xyz[:,1], s=150)\n",
    "\n",
    "for c in centroids:\n",
    "    plt.scatter(centroids[c][0], centroids[c][1], color='k', marker='*', s=150)\n",
    "\n",
    "plt.show()"
   ]
  }
 ],
 "metadata": {
  "kernelspec": {
   "display_name": "Python 3",
   "language": "python",
   "name": "python3"
  },
  "language_info": {
   "codemirror_mode": {
    "name": "ipython",
    "version": 3
   },
   "file_extension": ".py",
   "mimetype": "text/x-python",
   "name": "python",
   "nbconvert_exporter": "python",
   "pygments_lexer": "ipython3",
   "version": "3.7.0"
  },
  "toc": {
   "base_numbering": 1,
   "nav_menu": {},
   "number_sections": true,
   "sideBar": true,
   "skip_h1_title": false,
   "title_cell": "Table of Contents",
   "title_sidebar": "Contents",
   "toc_cell": false,
   "toc_position": {},
   "toc_section_display": true,
   "toc_window_display": false
  },
  "varInspector": {
   "cols": {
    "lenName": 16,
    "lenType": 16,
    "lenVar": 40
   },
   "kernels_config": {
    "python": {
     "delete_cmd_postfix": "",
     "delete_cmd_prefix": "del ",
     "library": "var_list.py",
     "varRefreshCmd": "print(var_dic_list())"
    },
    "r": {
     "delete_cmd_postfix": ") ",
     "delete_cmd_prefix": "rm(",
     "library": "var_list.r",
     "varRefreshCmd": "cat(var_dic_list()) "
    }
   },
   "types_to_exclude": [
    "module",
    "function",
    "builtin_function_or_method",
    "instance",
    "_Feature"
   ],
   "window_display": false
  }
 },
 "nbformat": 4,
 "nbformat_minor": 4
}
